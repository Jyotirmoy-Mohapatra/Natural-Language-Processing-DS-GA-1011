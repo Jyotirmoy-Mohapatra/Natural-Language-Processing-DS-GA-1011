{
 "cells": [
  {
   "cell_type": "code",
   "execution_count": 10,
   "metadata": {},
   "outputs": [
    {
     "data": {
      "text/plain": [
       "[{'text': \"Ok, everybody agreed on what was the best season. The first. And killing off Boone was a bad desicion. Also killing off others was bad. Blame the directors and writers for it. Bad boys. BUT. I still think this is the best scifi series ever! Sorry guys I can't help it! I see that the quality of the series was decreasing after the first season. Still it's easy to accept Liam as the new main character, if you are over Boone. He is really... mysterious. The thing that shocked me most was when Lilli was written out of the story and how. That was something she didn't deserve! And what do we get? Some blonde chick called Renee, with absolutely no character! But these Taelons stay mysterious, and you stay wondering about theyre true plans till the end. True Suspence. The conversations between Zo'or and Da'an are sometimes brilliant.<br /><br />I understand that, when you jump in on an episode from the 3th,4th or 5th season, you may not understand this show. But when you watch from the beginning, you just cant break loose!<br /><br />The acting is great, the special FX are marvellous, the music is beautiful and the plot intriguing. Gotta see this, guys!\",\n",
       "  'sentiment': 'pos'},\n",
       " {'text': \"This is one of those movies the critics really missed the mark on. This movie is practically McHale's Navy for the 90s or Police Academy at sea. Grammer proves he can play roles other than Frasier as he outwits and outfoxes the Navy in order to get his own sub. Rob Schneider is as wormy as usual, the same in every role he plays, and Lauren Holly is the local sexpot albeit with a brain. Ken Hudson Campbell is as funny as usual with almost every line a catch phrase. The movie has a wonderful intelligent plot and a non-predictable script that still surprises me every time I watch it. Many of the Navy phrases and terms go over my head, though, but it's a small obstacle for the sheer accuracy and realism of the movie and its characters.\",\n",
       "  'sentiment': 'pos'}]"
      ]
     },
     "execution_count": 10,
     "metadata": {},
     "output_type": "execute_result"
    }
   ],
   "source": [
    "train_split=20000\n",
    "from torchnlp.datasets import imdb_dataset\n",
    "train = imdb_dataset(train=True)\n",
    "test= imdb_dataset(test=True)"
   ]
  },
  {
   "cell_type": "code",
   "execution_count": 2,
   "metadata": {},
   "outputs": [
    {
     "ename": "NameError",
     "evalue": "name 'train' is not defined",
     "output_type": "error",
     "traceback": [
      "\u001b[1;31m---------------------------------------------------------------------------\u001b[0m",
      "\u001b[1;31mNameError\u001b[0m                                 Traceback (most recent call last)",
      "\u001b[1;32m<ipython-input-2-038251720698>\u001b[0m in \u001b[0;36m<module>\u001b[1;34m()\u001b[0m\n\u001b[0;32m      1\u001b[0m \u001b[1;32mimport\u001b[0m \u001b[0mpickle\u001b[0m \u001b[1;32mas\u001b[0m \u001b[0mpkl\u001b[0m\u001b[1;33m\u001b[0m\u001b[0m\n\u001b[0;32m      2\u001b[0m \u001b[1;33m\u001b[0m\u001b[0m\n\u001b[1;32m----> 3\u001b[1;33m \u001b[0mpkl\u001b[0m\u001b[1;33m.\u001b[0m\u001b[0mdump\u001b[0m\u001b[1;33m(\u001b[0m\u001b[0mtrain\u001b[0m\u001b[1;33m,\u001b[0m\u001b[0mopen\u001b[0m\u001b[1;33m(\u001b[0m\u001b[1;34m\"train.pkl\"\u001b[0m\u001b[1;33m,\u001b[0m\u001b[1;34m\"wb\"\u001b[0m\u001b[1;33m)\u001b[0m\u001b[1;33m)\u001b[0m\u001b[1;33m\u001b[0m\u001b[0m\n\u001b[0m\u001b[0;32m      4\u001b[0m \u001b[0mpkl\u001b[0m\u001b[1;33m.\u001b[0m\u001b[0mdump\u001b[0m\u001b[1;33m(\u001b[0m\u001b[0mtest\u001b[0m\u001b[1;33m,\u001b[0m\u001b[0mopen\u001b[0m\u001b[1;33m(\u001b[0m\u001b[1;34m\"test.pkl\"\u001b[0m\u001b[1;33m,\u001b[0m\u001b[1;34m\"wb\"\u001b[0m\u001b[1;33m)\u001b[0m\u001b[1;33m)\u001b[0m\u001b[1;33m\u001b[0m\u001b[0m\n",
      "\u001b[1;31mNameError\u001b[0m: name 'train' is not defined"
     ]
    }
   ],
   "source": [
    "import pickle as pkl\n",
    "\n",
    "pkl.dump(train,open(\"train.pkl\",\"wb\"))\n",
    "pkl.dump(test,open(\"test.pkl\",\"wb\"))"
   ]
  },
  {
   "cell_type": "code",
   "execution_count": 1,
   "metadata": {},
   "outputs": [
    {
     "name": "stdout",
     "output_type": "stream",
     "text": [
      "20000\n",
      "5000\n",
      "25000\n"
     ]
    }
   ],
   "source": [
    "import pickle as pkl\n",
    "\n",
    "train=pkl.load(open(\"train.pkl\",\"rb\"))\n",
    "test=pkl.load(open(\"test.pkl\",\"rb\"))\n",
    "\n",
    "train_split=20000\n",
    "\n",
    "training=train[:train_split//2]+train[12500:12500+train_split//2]\n",
    "train_data=[]\n",
    "train_target=[]\n",
    "for sample in training:\n",
    "    train_data+=[sample['text']]\n",
    "    if sample['sentiment']=='pos':\n",
    "        train_target+=[1]\n",
    "    else:\n",
    "        train_target+=[0]\n",
    "\n",
    "validation=train[train_split//2:12500]+train[12500+train_split//2:]\n",
    "val_data=[]\n",
    "val_target=[]\n",
    "for sample in validation:\n",
    "    val_data+=[sample['text']]\n",
    "    if sample['sentiment']=='pos':\n",
    "        val_target+=[1]\n",
    "    else:\n",
    "        val_target+=[0]\n",
    "\n",
    "test_data=[]\n",
    "test_target=[]\n",
    "for sample in test:\n",
    "    test_data+=[sample[\"text\"]]\n",
    "    if sample['sentiment']=='pos':\n",
    "        test_target+=[1]\n",
    "    else:\n",
    "        test_target+=[0]\n",
    "print(len(train_data))\n",
    "print(len(val_data))\n",
    "print(len(test_data))"
   ]
  },
  {
   "cell_type": "code",
   "execution_count": 2,
   "metadata": {
    "collapsed": true
   },
   "outputs": [],
   "source": [
    "import spacy\n",
    "import string\n",
    "\n",
    "tokenizer = spacy.load('en_core_web_sm')\n",
    "punctuations = string.punctuation\n",
    "\n",
    "def tokenize(sent):\n",
    "  tokens = tokenizer(sent)\n",
    "  #return [tokens]\n",
    "  return [token.text.lower() for token in tokens if (token.text not in punctuations)]"
   ]
  },
  {
   "cell_type": "code",
   "execution_count": 3,
   "metadata": {},
   "outputs": [
    {
     "name": "stdout",
     "output_type": "stream",
     "text": [
      "Tokenizing val data\n"
     ]
    },
    {
     "ename": "KeyboardInterrupt",
     "evalue": "",
     "output_type": "error",
     "traceback": [
      "\u001b[1;31m---------------------------------------------------------------------------\u001b[0m",
      "\u001b[1;31mKeyboardInterrupt\u001b[0m                         Traceback (most recent call last)",
      "\u001b[1;32m<ipython-input-3-d4def8d3462b>\u001b[0m in \u001b[0;36m<module>\u001b[1;34m()\u001b[0m\n\u001b[0;32m     16\u001b[0m \u001b[1;31m# val set tokens\u001b[0m\u001b[1;33m\u001b[0m\u001b[1;33m\u001b[0m\u001b[0m\n\u001b[0;32m     17\u001b[0m \u001b[0mprint\u001b[0m \u001b[1;33m(\u001b[0m\u001b[1;34m\"Tokenizing val data\"\u001b[0m\u001b[1;33m)\u001b[0m\u001b[1;33m\u001b[0m\u001b[0m\n\u001b[1;32m---> 18\u001b[1;33m \u001b[0mval_data_tokens\u001b[0m\u001b[1;33m,\u001b[0m \u001b[0m_\u001b[0m \u001b[1;33m=\u001b[0m \u001b[0mtokenize_dataset\u001b[0m\u001b[1;33m(\u001b[0m\u001b[0mval_data\u001b[0m\u001b[1;33m)\u001b[0m\u001b[1;33m\u001b[0m\u001b[0m\n\u001b[0m\u001b[0;32m     19\u001b[0m \u001b[0mpkl\u001b[0m\u001b[1;33m.\u001b[0m\u001b[0mdump\u001b[0m\u001b[1;33m(\u001b[0m\u001b[0mval_data_tokens\u001b[0m\u001b[1;33m,\u001b[0m \u001b[0mopen\u001b[0m\u001b[1;33m(\u001b[0m\u001b[1;34m\"val_data_tokens_noPrep.p\"\u001b[0m\u001b[1;33m,\u001b[0m \u001b[1;34m\"wb\"\u001b[0m\u001b[1;33m)\u001b[0m\u001b[1;33m)\u001b[0m\u001b[1;33m\u001b[0m\u001b[0m\n\u001b[0;32m     20\u001b[0m \u001b[1;33m\u001b[0m\u001b[0m\n",
      "\u001b[1;32m<ipython-input-3-d4def8d3462b>\u001b[0m in \u001b[0;36mtokenize_dataset\u001b[1;34m(dataset)\u001b[0m\n\u001b[0;32m      8\u001b[0m \u001b[1;33m\u001b[0m\u001b[0m\n\u001b[0;32m      9\u001b[0m     \u001b[1;32mfor\u001b[0m \u001b[0msample\u001b[0m \u001b[1;32min\u001b[0m \u001b[0mdataset\u001b[0m\u001b[1;33m:\u001b[0m\u001b[1;33m\u001b[0m\u001b[0m\n\u001b[1;32m---> 10\u001b[1;33m         \u001b[0mtokens\u001b[0m \u001b[1;33m=\u001b[0m \u001b[0mtokenize\u001b[0m\u001b[1;33m(\u001b[0m\u001b[0msample\u001b[0m\u001b[1;33m)\u001b[0m\u001b[1;33m\u001b[0m\u001b[0m\n\u001b[0m\u001b[0;32m     11\u001b[0m         \u001b[0mtoken_dataset\u001b[0m\u001b[1;33m.\u001b[0m\u001b[0mappend\u001b[0m\u001b[1;33m(\u001b[0m\u001b[0mtokens\u001b[0m\u001b[1;33m)\u001b[0m\u001b[1;33m\u001b[0m\u001b[0m\n\u001b[0;32m     12\u001b[0m         \u001b[0mall_tokens\u001b[0m \u001b[1;33m+=\u001b[0m \u001b[0mtokens\u001b[0m\u001b[1;33m\u001b[0m\u001b[0m\n",
      "\u001b[1;32m<ipython-input-2-86066cfd5db8>\u001b[0m in \u001b[0;36mtokenize\u001b[1;34m(sent)\u001b[0m\n\u001b[0;32m      6\u001b[0m \u001b[1;33m\u001b[0m\u001b[0m\n\u001b[0;32m      7\u001b[0m \u001b[1;32mdef\u001b[0m \u001b[0mtokenize\u001b[0m\u001b[1;33m(\u001b[0m\u001b[0msent\u001b[0m\u001b[1;33m)\u001b[0m\u001b[1;33m:\u001b[0m\u001b[1;33m\u001b[0m\u001b[0m\n\u001b[1;32m----> 8\u001b[1;33m   \u001b[0mtokens\u001b[0m \u001b[1;33m=\u001b[0m \u001b[0mtokenizer\u001b[0m\u001b[1;33m(\u001b[0m\u001b[0msent\u001b[0m\u001b[1;33m)\u001b[0m\u001b[1;33m\u001b[0m\u001b[0m\n\u001b[0m\u001b[0;32m      9\u001b[0m   \u001b[1;31m#return [tokens]\u001b[0m\u001b[1;33m\u001b[0m\u001b[1;33m\u001b[0m\u001b[0m\n\u001b[0;32m     10\u001b[0m   \u001b[1;32mreturn\u001b[0m \u001b[1;33m[\u001b[0m\u001b[0mtoken\u001b[0m\u001b[1;33m.\u001b[0m\u001b[0mtext\u001b[0m\u001b[1;33m.\u001b[0m\u001b[0mlower\u001b[0m\u001b[1;33m(\u001b[0m\u001b[1;33m)\u001b[0m \u001b[1;32mfor\u001b[0m \u001b[0mtoken\u001b[0m \u001b[1;32min\u001b[0m \u001b[0mtokens\u001b[0m \u001b[1;32mif\u001b[0m \u001b[1;33m(\u001b[0m\u001b[0mtoken\u001b[0m\u001b[1;33m.\u001b[0m\u001b[0mtext\u001b[0m \u001b[1;32mnot\u001b[0m \u001b[1;32min\u001b[0m \u001b[0mpunctuations\u001b[0m\u001b[1;33m)\u001b[0m\u001b[1;33m]\u001b[0m\u001b[1;33m\u001b[0m\u001b[0m\n",
      "\u001b[1;32mF:\\Anaconda3\\lib\\site-packages\\spacy\\language.py\u001b[0m in \u001b[0;36m__call__\u001b[1;34m(self, text, disable)\u001b[0m\n\u001b[0;32m    350\u001b[0m             \u001b[1;32mif\u001b[0m \u001b[1;32mnot\u001b[0m \u001b[0mhasattr\u001b[0m\u001b[1;33m(\u001b[0m\u001b[0mproc\u001b[0m\u001b[1;33m,\u001b[0m \u001b[1;34m'__call__'\u001b[0m\u001b[1;33m)\u001b[0m\u001b[1;33m:\u001b[0m\u001b[1;33m\u001b[0m\u001b[0m\n\u001b[0;32m    351\u001b[0m                 \u001b[1;32mraise\u001b[0m \u001b[0mValueError\u001b[0m\u001b[1;33m(\u001b[0m\u001b[0mErrors\u001b[0m\u001b[1;33m.\u001b[0m\u001b[0mE003\u001b[0m\u001b[1;33m.\u001b[0m\u001b[0mformat\u001b[0m\u001b[1;33m(\u001b[0m\u001b[0mcomponent\u001b[0m\u001b[1;33m=\u001b[0m\u001b[0mtype\u001b[0m\u001b[1;33m(\u001b[0m\u001b[0mproc\u001b[0m\u001b[1;33m)\u001b[0m\u001b[1;33m,\u001b[0m \u001b[0mname\u001b[0m\u001b[1;33m=\u001b[0m\u001b[0mname\u001b[0m\u001b[1;33m)\u001b[0m\u001b[1;33m)\u001b[0m\u001b[1;33m\u001b[0m\u001b[0m\n\u001b[1;32m--> 352\u001b[1;33m             \u001b[0mdoc\u001b[0m \u001b[1;33m=\u001b[0m \u001b[0mproc\u001b[0m\u001b[1;33m(\u001b[0m\u001b[0mdoc\u001b[0m\u001b[1;33m)\u001b[0m\u001b[1;33m\u001b[0m\u001b[0m\n\u001b[0m\u001b[0;32m    353\u001b[0m             \u001b[1;32mif\u001b[0m \u001b[0mdoc\u001b[0m \u001b[1;32mis\u001b[0m \u001b[1;32mNone\u001b[0m\u001b[1;33m:\u001b[0m\u001b[1;33m\u001b[0m\u001b[0m\n\u001b[0;32m    354\u001b[0m                 \u001b[1;32mraise\u001b[0m \u001b[0mValueError\u001b[0m\u001b[1;33m(\u001b[0m\u001b[0mErrors\u001b[0m\u001b[1;33m.\u001b[0m\u001b[0mE005\u001b[0m\u001b[1;33m.\u001b[0m\u001b[0mformat\u001b[0m\u001b[1;33m(\u001b[0m\u001b[0mname\u001b[0m\u001b[1;33m=\u001b[0m\u001b[0mname\u001b[0m\u001b[1;33m)\u001b[0m\u001b[1;33m)\u001b[0m\u001b[1;33m\u001b[0m\u001b[0m\n",
      "\u001b[1;32mnn_parser.pyx\u001b[0m in \u001b[0;36mspacy.syntax.nn_parser.Parser.__call__\u001b[1;34m()\u001b[0m\n",
      "\u001b[1;32mnn_parser.pyx\u001b[0m in \u001b[0;36mspacy.syntax.nn_parser.Parser.parse_batch\u001b[1;34m()\u001b[0m\n",
      "\u001b[1;31mKeyboardInterrupt\u001b[0m: "
     ]
    }
   ],
   "source": [
    "import pickle as pkl\n",
    "\n",
    "def tokenize_dataset(dataset):\n",
    "    token_dataset = []\n",
    "    # we are keeping track of all tokens in dataset \n",
    "    # in order to create vocabulary later\n",
    "    all_tokens = []\n",
    "    \n",
    "    for sample in dataset:\n",
    "        tokens = tokenize(sample)\n",
    "        token_dataset.append(tokens)\n",
    "        all_tokens += tokens\n",
    "\n",
    "    return token_dataset, all_tokens\n",
    "\n",
    "# val set tokens\n",
    "print (\"Tokenizing val data\")\n",
    "val_data_tokens, _ = tokenize_dataset(val_data)\n",
    "pkl.dump(val_data_tokens, open(\"val_data_tokens_noPrep.p\", \"wb\"))\n",
    "\n",
    "# test set tokens\n",
    "print (\"Tokenizing test data\")\n",
    "test_data_tokens, _ = tokenize_dataset(test_data)\n",
    "pkl.dump(test_data_tokens, open(\"test_data_tokens_noPrep.p\", \"wb\"))\n",
    "\n",
    "# train set tokens\n",
    "print (\"Tokenizing train data\")\n",
    "train_data_tokens, all_train_tokens = tokenize_dataset(train_data)\n",
    "pkl.dump(train_data_tokens, open(\"train_data_tokens_noPrep.p\", \"wb\"))\n",
    "pkl.dump(all_train_tokens, open(\"all_train_tokens_noPrep.p\", \"wb\"))"
   ]
  },
  {
   "cell_type": "code",
   "execution_count": 2,
   "metadata": {},
   "outputs": [
    {
     "name": "stdout",
     "output_type": "stream",
     "text": [
      "['bromwell', 'high', 'is', 'a', 'cartoon', 'comedy', 'it', 'ran', 'at', 'the', 'same', 'time', 'as', 'some', 'other', 'programs', 'about', 'school', 'life', 'such', 'as', 'teachers', 'my', '35', 'years', 'in', 'the', 'teaching', 'profession', 'lead', 'me', 'to', 'believe', 'that', 'bromwell', 'high', \"'s\", 'satire', 'is', 'much', 'closer', 'to', 'reality', 'than', 'is', 'teachers', 'the', 'scramble', 'to', 'survive', 'financially', 'the', 'insightful', 'students', 'who', 'can', 'see', 'right', 'through', 'their', 'pathetic', 'teachers', 'pomp', 'the', 'pettiness', 'of', 'the', 'whole', 'situation', 'all', 'remind', 'me', 'of', 'the', 'schools', 'i', 'knew', 'and', 'their', 'students', 'when', 'i', 'saw', 'the', 'episode', 'in', 'which', 'a', 'student', 'repeatedly', 'tried', 'to', 'burn', 'down', 'the', 'school', 'i', 'immediately', 'recalled', '.........', 'at', '..........', 'high', 'a', 'classic', 'line', 'inspector', 'i', \"'m\", 'here', 'to', 'sack', 'one', 'of', 'your', 'teachers', 'student', 'welcome', 'to', 'bromwell', 'high', 'i', 'expect', 'that', 'many', 'adults', 'of', 'my', 'age', 'think', 'that', 'bromwell', 'high', 'is', 'far', 'fetched', 'what', 'a', 'pity', 'that', 'it', 'is', \"n't\", 'bromwell high', 'high is', 'is a', 'a cartoon', 'cartoon comedy', 'comedy it', 'it ran', 'ran at', 'at the', 'the same', 'same time', 'time as', 'as some', 'some other', 'other programs', 'programs about', 'about school', 'school life', 'life such', 'such as', 'as teachers', 'teachers my', 'my 35', '35 years', 'years in', 'in the', 'the teaching', 'teaching profession', 'profession lead', 'lead me', 'me to', 'to believe', 'believe that', 'that bromwell', 'bromwell high', \"high 's\", \"'s satire\", 'satire is', 'is much', 'much closer', 'closer to', 'to reality', 'reality than', 'than is', 'is teachers', 'teachers the', 'the scramble', 'scramble to', 'to survive', 'survive financially', 'financially the', 'the insightful', 'insightful students', 'students who', 'who can', 'can see', 'see right', 'right through', 'through their', 'their pathetic', 'pathetic teachers', 'teachers pomp', 'pomp the', 'the pettiness', 'pettiness of', 'of the', 'the whole', 'whole situation', 'situation all', 'all remind', 'remind me', 'me of', 'of the', 'the schools', 'schools i', 'i knew', 'knew and', 'and their', 'their students', 'students when', 'when i', 'i saw', 'saw the', 'the episode', 'episode in', 'in which', 'which a', 'a student', 'student repeatedly', 'repeatedly tried', 'tried to', 'to burn', 'burn down', 'down the', 'the school', 'school i', 'i immediately', 'immediately recalled', 'recalled .........', '......... at', 'at ..........', '.......... high', 'high a', 'a classic', 'classic line', 'line inspector', 'inspector i', \"i 'm\", \"'m here\", 'here to', 'to sack', 'sack one', 'one of', 'of your', 'your teachers', 'teachers student', 'student welcome', 'welcome to', 'to bromwell', 'bromwell high', 'high i', 'i expect', 'expect that', 'that many', 'many adults', 'adults of', 'of my', 'my age', 'age think', 'think that', 'that bromwell', 'bromwell high', 'high is', 'is far', 'far fetched', 'fetched what', 'what a', 'a pity', 'pity that', 'that it', 'it is', \"is n't\"]\n",
      "Train dataset size is 20000\n",
      "Val dataset size is 5000\n",
      "Test dataset size is 25000\n",
      "Total number of tokens in train dataset is 9617391\n"
     ]
    }
   ],
   "source": [
    "import pickle as pkl\n",
    "\n",
    "train_data_tokens = pkl.load(open(\"train_data_tokens.p\", \"rb\"))\n",
    "all_train_tokens = pkl.load(open(\"all_train_tokens.p\", \"rb\"))\n",
    "\n",
    "val_data_tokens = pkl.load(open(\"val_data_tokens.p\", \"rb\"))\n",
    "test_data_tokens = pkl.load(open(\"test_data_tokens.p\", \"rb\"))\n",
    "\n",
    "#print(all_train_tokens[0])\n",
    "#print(all_train_tokens[1])\n",
    "\n",
    "t_all=[]\n",
    "#bigrams\n",
    "for i in range(len(all_train_tokens)-1):\n",
    "    t_all.append(all_train_tokens[i]+\" \"+all_train_tokens[i+1])\n",
    "    #t_all.append(all_train_tokens[i]+\" \"+all_train_tokens[i+1]+\" \"+all_train_tokens[i+2])\n",
    "\n",
    "\n",
    "for rev in train_data_tokens:\n",
    "    brev=[]\n",
    "    trev=[]\n",
    "    frev=[]\n",
    "    for i in range(len(rev)-1):\n",
    "        brev.append(rev[i]+\" \"+rev[i+1])\n",
    "    #for i in range(len(rev)-2):\n",
    "    #    trev.append(rev[i]+\" \"+rev[i+1]+\" \"+rev[i+2])\n",
    "    #for i in range(len(rev)-3):\n",
    "    #    frev.append(rev[i]+\" \"+rev[i+1]+\" \"+rev[i+2]+\" \"+rev[i+3])\n",
    "    rev+=brev\n",
    "    #rev+=trev\n",
    "    #rev+=frev\n",
    "for rev in val_data_tokens:\n",
    "    brev=[]\n",
    "    trev=[]\n",
    "    frev=[]\n",
    "    for i in range(len(rev)-1):\n",
    "        brev.append(rev[i]+\" \"+rev[i+1])\n",
    "    #for i in range(len(rev)-2):\n",
    "    #    trev.append(rev[i]+\" \"+rev[i+1]+\" \"+rev[i+2])\n",
    "    #for i in range(len(rev)-3):\n",
    "    #    frev.append(rev[i]+\" \"+rev[i+1]+\" \"+rev[i+2]+\" \"+rev[i+3])\n",
    "    rev+=brev\n",
    "    #rev+=trev\n",
    "    #rev+=frev\n",
    "\n",
    "#trigrams\n",
    "#tr_all=[]\n",
    "#for i in range(len(all_train_tokens)-2):\n",
    "#    tr_all.append(all_train_tokens[i]+\" \"+all_train_tokens[i+1]+\" \"+all_train_tokens[i+2])\n",
    "\n",
    "#4 grams\n",
    "#fr_all=[]\n",
    "#for i in range(len(all_train_tokens)-3):\n",
    "#    fr_all.append(all_train_tokens[i]+\" \"+all_train_tokens[i+1]+\" \"+all_train_tokens[i+2]+\" \"+all_train_tokens[i+3])\n",
    "\n",
    "all_train_tokens+=t_all\n",
    "#all_train_tokens+=tr_all\n",
    "#all_train_tokens+=fr_all\n",
    "\n",
    "# double checking\n",
    "print(train_data_tokens[0])\n",
    "print (\"Train dataset size is {}\".format(len(train_data_tokens)))\n",
    "print (\"Val dataset size is {}\".format(len(val_data_tokens)))\n",
    "print (\"Test dataset size is {}\".format(len(test_data_tokens)))\n",
    "\n",
    "print (\"Total number of tokens in train dataset is {}\".format(len(all_train_tokens)))"
   ]
  },
  {
   "cell_type": "code",
   "execution_count": 3,
   "metadata": {
    "collapsed": true
   },
   "outputs": [],
   "source": [
    "from collections import Counter\n",
    "\n",
    "max_vocab_size = 10000\n",
    "# save index 0 for unk and 1 for pad\n",
    "PAD_IDX = 0\n",
    "UNK_IDX = 1\n",
    "\n",
    "def build_vocab(all_tokens):\n",
    "    # Returns:\n",
    "    # id2token: list of tokens, where id2token[i] returns token that corresponds to token i\n",
    "    # token2id: dictionary where keys represent tokens and corresponding values represent indices\n",
    "    token_counter = Counter(all_tokens)\n",
    "    vocab, count = zip(*token_counter.most_common(max_vocab_size))\n",
    "    id2token = list(vocab)\n",
    "    token2id = dict(zip(vocab, range(2,2+len(vocab)))) \n",
    "    id2token = ['<pad>', '<unk>'] + id2token\n",
    "    token2id['<pad>'] = PAD_IDX \n",
    "    token2id['<unk>'] = UNK_IDX\n",
    "    return token2id, id2token\n",
    "\n",
    "token2id, id2token = build_vocab(all_train_tokens)"
   ]
  },
  {
   "cell_type": "code",
   "execution_count": 4,
   "metadata": {},
   "outputs": [
    {
     "name": "stdout",
     "output_type": "stream",
     "text": [
      "Token id 8797 ; token happen in\n",
      "Token happen in; token id 8797\n"
     ]
    }
   ],
   "source": [
    "import random\n",
    "\n",
    "random_token_id = random.randint(0, len(id2token)-1)\n",
    "random_token = id2token[random_token_id]\n",
    "\n",
    "print (\"Token id {} ; token {}\".format(random_token_id, id2token[random_token_id]))\n",
    "print (\"Token {}; token id {}\".format(random_token, token2id[random_token]))"
   ]
  },
  {
   "cell_type": "code",
   "execution_count": 5,
   "metadata": {},
   "outputs": [
    {
     "name": "stdout",
     "output_type": "stream",
     "text": [
      "Train dataset size is 20000\n",
      "Val dataset size is 5000\n",
      "Test dataset size is 25000\n"
     ]
    }
   ],
   "source": [
    "# convert token to id in the dataset\n",
    "def token2index_dataset(tokens_data):\n",
    "    indices_data = []\n",
    "    for tokens in tokens_data:\n",
    "        index_list = [token2id[token] if token in token2id else UNK_IDX for token in tokens]\n",
    "        indices_data.append(index_list)\n",
    "    return indices_data\n",
    "\n",
    "train_data_indices = token2index_dataset(train_data_tokens)\n",
    "val_data_indices = token2index_dataset(val_data_tokens)\n",
    "test_data_indices = token2index_dataset(test_data_tokens)\n",
    "\n",
    "# double checking\n",
    "print (\"Train dataset size is {}\".format(len(train_data_indices)))\n",
    "print (\"Val dataset size is {}\".format(len(val_data_indices)))\n",
    "print (\"Test dataset size is {}\".format(len(test_data_indices)))"
   ]
  },
  {
   "cell_type": "code",
   "execution_count": 6,
   "metadata": {
    "collapsed": true
   },
   "outputs": [],
   "source": [
    "#Dataloader randomly selects batch of data from the dataset\n",
    "\n",
    "MAX_SENTENCE_LENGTH = 200\n",
    "\n",
    "import numpy as np\n",
    "import torch\n",
    "from torch.utils.data import Dataset\n",
    "\n",
    "class ImdbDataset(Dataset):\n",
    "    \"\"\"\n",
    "    Class that represents a train/validation/test dataset that's readable for PyTorch\n",
    "    Note that this class inherits torch.utils.data.Dataset\n",
    "    \"\"\"\n",
    "    \n",
    "    def __init__(self, data_list, target_list):\n",
    "        \"\"\"\n",
    "        @param data_list: list of newsgroup tokens \n",
    "        @param target_list: list of newsgroup targets \n",
    "\n",
    "        \"\"\"\n",
    "        self.data_list = data_list\n",
    "        self.target_list = target_list\n",
    "        #print(len(self.data_list),len(self.target_list))\n",
    "        assert (len(self.data_list) == len(self.target_list))\n",
    "\n",
    "    def __len__(self):\n",
    "        return len(self.data_list)\n",
    "        \n",
    "    def __getitem__(self, key):\n",
    "        \"\"\"\n",
    "        Triggered when you call dataset[i]\n",
    "        \"\"\"\n",
    "        \n",
    "        token_idx = self.data_list[key][:MAX_SENTENCE_LENGTH]\n",
    "        label = self.target_list[key]\n",
    "        return [token_idx, len(token_idx), label]\n",
    "\n",
    "def imdb_collate_func(batch):\n",
    "    \"\"\"\n",
    "    Customized function for DataLoader that dynamically pads the batch so that all \n",
    "    data have the same length\n",
    "    \"\"\"\n",
    "    data_list = []\n",
    "    label_list = []\n",
    "    length_list = []\n",
    "    #print(\"collate batch: \", batch[0][0])\n",
    "    #batch[0][0] = batch[0][0][:MAX_SENTENCE_LENGTH]\n",
    "    for datum in batch:\n",
    "        label_list.append(datum[2])\n",
    "        length_list.append(datum[1])\n",
    "    # padding\n",
    "    for datum in batch:\n",
    "        padded_vec = np.pad(np.array(datum[0]), \n",
    "                                pad_width=((0,MAX_SENTENCE_LENGTH-datum[1])), \n",
    "                                mode=\"constant\", constant_values=0)\n",
    "        data_list.append(padded_vec)\n",
    "    #print(label_list[:10])\n",
    "    return [torch.from_numpy(np.array(data_list)), torch.LongTensor(length_list), torch.LongTensor(label_list)]\n",
    "\n",
    "\n",
    "BATCH_SIZE = 32\n",
    "train_dataset = ImdbDataset(train_data_indices, train_target)\n",
    "train_loader = torch.utils.data.DataLoader(dataset=train_dataset, \n",
    "                                           batch_size=BATCH_SIZE,\n",
    "                                           collate_fn=imdb_collate_func,\n",
    "                                           shuffle=True)\n",
    "\n",
    "val_dataset = ImdbDataset(val_data_indices, val_target)\n",
    "val_loader = torch.utils.data.DataLoader(dataset=val_dataset, \n",
    "                                           batch_size=BATCH_SIZE,\n",
    "                                           collate_fn=imdb_collate_func,\n",
    "                                           shuffle=True)\n",
    "\n",
    "test_dataset = ImdbDataset(test_data_indices, test_target)\n",
    "test_loader = torch.utils.data.DataLoader(dataset=test_dataset, \n",
    "                                           batch_size=BATCH_SIZE,\n",
    "                                           collate_fn=imdb_collate_func,\n",
    "                                           shuffle=False)\n"
   ]
  },
  {
   "cell_type": "code",
   "execution_count": 7,
   "metadata": {
    "collapsed": true
   },
   "outputs": [],
   "source": [
    "import torch\n",
    "import torch.nn as nn\n",
    "import torch.nn.functional as F\n",
    "\n",
    "class BagOfWords(nn.Module):\n",
    "    \"\"\"\n",
    "    BagOfWords classification model\n",
    "    \"\"\"\n",
    "    def __init__(self, vocab_size, emb_dim):\n",
    "        \"\"\"\n",
    "        @param vocab_size: size of the vocabulary. \n",
    "        @param emb_dim: size of the word embedding\n",
    "        \"\"\"\n",
    "        super(BagOfWords, self).__init__()\n",
    "        # pay attention to padding_idx \n",
    "        #embed dimension should be atleast 100\n",
    "        self.embed = nn.Embedding(vocab_size, emb_dim, padding_idx=0)\n",
    "        self.linear = nn.Linear(emb_dim,2)\n",
    "    \n",
    "    def forward(self, data, length):\n",
    "        \"\"\"\n",
    "        \n",
    "        @param data: matrix of size (batch_size, max_sentence_length). Each row in data represents a \n",
    "            review that is represented using n-gram index. Note that they are padded to have same length.\n",
    "        @param length: an int tensor of size (batch_size), which represents the non-trivial (excludes padding)\n",
    "            length of each sentences in the data.\n",
    "        \"\"\"\n",
    "        \n",
    "        out = self.embed(data)\n",
    "        out = torch.sum(out, dim=1)\n",
    "        out /= length.view(length.size()[0],1).expand_as(out).float()\n",
    "     \n",
    "        # return logits\n",
    "        out = self.linear(out.float())\n",
    "        return out\n",
    "\n",
    "emb_dim = 100\n",
    "model = BagOfWords(len(id2token), emb_dim)"
   ]
  },
  {
   "cell_type": "code",
   "execution_count": 8,
   "metadata": {
    "scrolled": true
   },
   "outputs": [
    {
     "name": "stdout",
     "output_type": "stream",
     "text": [
      "Epoch: [1/10], Step: [101/625], Validation Acc: 58.04, Training Accuracy:59.08\n",
      "Epoch: [1/10], Step: [201/625], Validation Acc: 60.6, Training Accuracy:62.305\n",
      "Epoch: [1/10], Step: [301/625], Validation Acc: 67.88, Training Accuracy:69.36\n",
      "Epoch: [1/10], Step: [401/625], Validation Acc: 72.12, Training Accuracy:73.67\n",
      "Epoch: [1/10], Step: [501/625], Validation Acc: 73.92, Training Accuracy:75.38\n",
      "Epoch: [1/10], Step: [601/625], Validation Acc: 76.9, Training Accuracy:78.95\n",
      "Epoch: [2/10], Step: [101/625], Validation Acc: 78.1, Training Accuracy:80.635\n",
      "Epoch: [2/10], Step: [201/625], Validation Acc: 79.48, Training Accuracy:82.025\n",
      "Epoch: [2/10], Step: [301/625], Validation Acc: 79.96, Training Accuracy:82.735\n",
      "Epoch: [2/10], Step: [401/625], Validation Acc: 81.38, Training Accuracy:83.655\n",
      "Epoch: [2/10], Step: [501/625], Validation Acc: 81.94, Training Accuracy:84.415\n",
      "Epoch: [2/10], Step: [601/625], Validation Acc: 82.68, Training Accuracy:84.84\n",
      "Epoch: [3/10], Step: [101/625], Validation Acc: 83.0, Training Accuracy:85.64\n",
      "Epoch: [3/10], Step: [201/625], Validation Acc: 83.3, Training Accuracy:86.09\n",
      "Epoch: [3/10], Step: [301/625], Validation Acc: 83.62, Training Accuracy:86.485\n",
      "Epoch: [3/10], Step: [401/625], Validation Acc: 83.74, Training Accuracy:86.88\n",
      "Epoch: [3/10], Step: [501/625], Validation Acc: 83.88, Training Accuracy:87.305\n",
      "Epoch: [3/10], Step: [601/625], Validation Acc: 83.9, Training Accuracy:87.555\n",
      "Epoch: [4/10], Step: [101/625], Validation Acc: 84.0, Training Accuracy:87.865\n",
      "Epoch: [4/10], Step: [201/625], Validation Acc: 84.18, Training Accuracy:88.1\n",
      "Epoch: [4/10], Step: [301/625], Validation Acc: 84.16, Training Accuracy:88.17\n",
      "Epoch: [4/10], Step: [401/625], Validation Acc: 84.08, Training Accuracy:88.285\n",
      "Epoch: [4/10], Step: [501/625], Validation Acc: 84.18, Training Accuracy:88.5\n",
      "Epoch: [4/10], Step: [601/625], Validation Acc: 84.18, Training Accuracy:88.635\n",
      "Epoch: [5/10], Step: [101/625], Validation Acc: 84.32, Training Accuracy:88.7\n",
      "Epoch: [5/10], Step: [201/625], Validation Acc: 84.52, Training Accuracy:88.88\n",
      "Epoch: [5/10], Step: [301/625], Validation Acc: 84.44, Training Accuracy:88.985\n",
      "Epoch: [5/10], Step: [401/625], Validation Acc: 84.4, Training Accuracy:89.1\n",
      "Epoch: [5/10], Step: [501/625], Validation Acc: 84.82, Training Accuracy:89.185\n",
      "Epoch: [5/10], Step: [601/625], Validation Acc: 84.58, Training Accuracy:89.31\n",
      "Epoch: [6/10], Step: [101/625], Validation Acc: 84.72, Training Accuracy:89.45\n",
      "Epoch: [6/10], Step: [201/625], Validation Acc: 84.58, Training Accuracy:89.595\n",
      "Epoch: [6/10], Step: [301/625], Validation Acc: 84.74, Training Accuracy:89.59\n",
      "Epoch: [6/10], Step: [401/625], Validation Acc: 84.52, Training Accuracy:89.78\n",
      "Epoch: [6/10], Step: [501/625], Validation Acc: 84.88, Training Accuracy:89.82\n",
      "Epoch: [6/10], Step: [601/625], Validation Acc: 84.84, Training Accuracy:89.85\n",
      "Epoch: [7/10], Step: [101/625], Validation Acc: 84.82, Training Accuracy:89.95\n",
      "Epoch: [7/10], Step: [201/625], Validation Acc: 84.72, Training Accuracy:90.085\n",
      "Epoch: [7/10], Step: [301/625], Validation Acc: 84.98, Training Accuracy:90.15\n",
      "Epoch: [7/10], Step: [401/625], Validation Acc: 84.66, Training Accuracy:90.185\n",
      "Epoch: [7/10], Step: [501/625], Validation Acc: 84.8, Training Accuracy:90.27\n",
      "Epoch: [7/10], Step: [601/625], Validation Acc: 85.0, Training Accuracy:90.265\n",
      "Epoch: [8/10], Step: [101/625], Validation Acc: 85.0, Training Accuracy:90.35\n",
      "Epoch: [8/10], Step: [201/625], Validation Acc: 84.98, Training Accuracy:90.415\n",
      "Epoch: [8/10], Step: [301/625], Validation Acc: 84.84, Training Accuracy:90.395\n",
      "Epoch: [8/10], Step: [401/625], Validation Acc: 84.82, Training Accuracy:90.54\n",
      "Epoch: [8/10], Step: [501/625], Validation Acc: 85.0, Training Accuracy:90.565\n",
      "Epoch: [8/10], Step: [601/625], Validation Acc: 84.94, Training Accuracy:90.585\n",
      "Epoch: [9/10], Step: [101/625], Validation Acc: 85.04, Training Accuracy:90.55\n",
      "Epoch: [9/10], Step: [201/625], Validation Acc: 84.96, Training Accuracy:90.665\n",
      "Epoch: [9/10], Step: [301/625], Validation Acc: 85.04, Training Accuracy:90.7\n",
      "Epoch: [9/10], Step: [401/625], Validation Acc: 84.88, Training Accuracy:90.76\n",
      "Epoch: [9/10], Step: [501/625], Validation Acc: 84.9, Training Accuracy:90.825\n",
      "Epoch: [9/10], Step: [601/625], Validation Acc: 84.92, Training Accuracy:90.84\n",
      "Epoch: [10/10], Step: [101/625], Validation Acc: 85.08, Training Accuracy:90.885\n",
      "Epoch: [10/10], Step: [201/625], Validation Acc: 85.18, Training Accuracy:90.935\n",
      "Epoch: [10/10], Step: [301/625], Validation Acc: 85.1, Training Accuracy:90.925\n",
      "Epoch: [10/10], Step: [401/625], Validation Acc: 85.14, Training Accuracy:90.985\n",
      "Epoch: [10/10], Step: [501/625], Validation Acc: 85.26, Training Accuracy:90.985\n",
      "Epoch: [10/10], Step: [601/625], Validation Acc: 84.88, Training Accuracy:90.945\n"
     ]
    },
    {
     "data": {
      "image/png": "[encoded data removed]",
      "text/plain": [
       "<matplotlib.figure.Figure at 0x1e2e97949e8>"
      ]
     },
     "metadata": {},
     "output_type": "display_data"
    },
    {
     "data": {
      "image/png": "[encoded data removed]",
      "text/plain": [
       "<matplotlib.figure.Figure at 0x1e30d58d828>"
      ]
     },
     "metadata": {},
     "output_type": "display_data"
    }
   ],
   "source": [
    "learning_rate = 0.001\n",
    "num_epochs = 10 # number epoch to train\n",
    "\n",
    "# Criterion and Optimizer\n",
    "criterion = torch.nn.CrossEntropyLoss()  \n",
    "optimizer = torch.optim.Adam(model.parameters(), lr=learning_rate)\n",
    "scheduler = torch.optim.lr_scheduler.StepLR(optimizer, step_size=3, gamma=0.5)\n",
    "#optimizer_Adam= torch.optim.SGD(model.parameters(), lr=learning_rate)\n",
    "\n",
    "# Function for testing the model\n",
    "def test_model(loader, model):\n",
    "    \"\"\"\n",
    "    Help function that tests the model's performance on a dataset\n",
    "    @param: loader - data loader for the dataset to test against\n",
    "    \"\"\"\n",
    "    correct = 0\n",
    "    total = 0\n",
    "    model.eval()\n",
    "    for data, lengths, labels in loader:\n",
    "        data_batch, length_batch, label_batch = data.long(), lengths, labels\n",
    "        outputs = F.softmax(model(data_batch, length_batch), dim=1)\n",
    "        predicted = outputs.max(1, keepdim=True)[1]\n",
    "        \n",
    "        total += labels.size(0)\n",
    "        correct += predicted.eq(labels.view_as(predicted)).sum().item()\n",
    "    return (100 * correct / total)\n",
    "\n",
    "val_acc_list=[]\n",
    "train_acc_list=[]\n",
    "for epoch in range(num_epochs):\n",
    "    scheduler.step()\n",
    "    for i, (data, lengths, labels) in enumerate(train_loader):\n",
    "        model.train()\n",
    "        data_batch, length_batch, label_batch = data.long(), lengths, labels\n",
    "        optimizer.zero_grad()\n",
    "        outputs = model(data_batch, length_batch)\n",
    "        loss = criterion(outputs, label_batch)\n",
    "        loss.backward()\n",
    "        optimizer.step()\n",
    "        # validate every 100 iterations\n",
    "        if i > 0 and i % 100 == 0:\n",
    "            # validate\n",
    "            val_acc = test_model(val_loader, model)\n",
    "            train_acc = test_model(train_loader, model)\n",
    "            print('Epoch: [{}/{}], Step: [{}/{}], Validation Acc: {}, Training Accuracy:{}'.format( \n",
    "                       epoch+1, num_epochs, i+1, len(train_loader), val_acc,train_acc))\n",
    "    val_acc_list.append(val_acc)\n",
    "    train_acc_list.append(train_acc)\n",
    "    \n",
    "import matplotlib.pyplot as plt\n",
    "%matplotlib inline\n",
    "\n",
    "epochs=[i for i in range(1,num_epochs+1)]\n",
    "plt.plot(epochs,val_acc_list)\n",
    "plt.ylabel(\"Validation accuracy\")\n",
    "plt.xlabel(\"Epochs\")\n",
    "plt.title(\"Adam optimizer LR=\"+str(learning_rate))\n",
    "plt.show()\n",
    "\n",
    "epochs=[i for i in range(1,num_epochs+1)]\n",
    "plt.plot(epochs,train_acc_list)\n",
    "plt.ylabel(\"Train accuracy\")\n",
    "plt.xlabel(\"Epochs\")\n",
    "plt.title(\"Adam optimizer LR=\"+str(learning_rate))\n",
    "plt.show()\n"
   ]
  },
  {
   "cell_type": "code",
   "execution_count": 17,
   "metadata": {},
   "outputs": [
    {
     "name": "stdout",
     "output_type": "stream",
     "text": [
      "Test Acc 85.18\n"
     ]
    }
   ],
   "source": [
    "print (\"Test Acc {}\".format(test_model(test_loader, model)))"
   ]
  },
  {
   "cell_type": "code",
   "execution_count": 22,
   "metadata": {},
   "outputs": [],
   "source": [
    "def correct_incorrect(loader, model):\n",
    "    \"\"\"\n",
    "    Help function that tests the model's performance on a dataset\n",
    "    @param: loader - data loader for the dataset to test against\n",
    "    \"\"\"\n",
    "    correct = 0\n",
    "    incorrect = 0\n",
    "    model.eval()\n",
    "    for data, lengths, labels in loader:\n",
    "        if correct==3 and incorrect==3:\n",
    "            break\n",
    "        data_batch, length_batch, label_batch = data.long(), lengths, labels\n",
    "        outputs = F.softmax(model(data_batch, length_batch), dim=1)\n",
    "        predicted = outputs.max(1, keepdim=True)[1]\n",
    "        for i in range(len(predicted)):\n",
    "            rev=\"\"\n",
    "            if predicted[i]==labels[i] and correct<3:\n",
    "                correct=correct+1\n",
    "                print(\"Correct\")\n",
    "                for j in data_batch[i]:\n",
    "                    rev+=id2token[j.item()]+\" \"\n",
    "                print(rev)\n",
    "                if labels[i]==1:\n",
    "                    print(\"-positive\")\n",
    "                if labels[i]==0:\n",
    "                    print(\"-negative\")\n",
    "        for i in range(len(predicted)):\n",
    "            rev=\"\"\n",
    "            if predicted[i]!=labels[i] and incorrect<3:\n",
    "                incorrect=incorrect+1\n",
    "                print(\"InCorrect\")\n",
    "                for j in data_batch[i]:\n",
    "                    rev+=id2token[j.item()]+\" \"\n",
    "                print(rev)\n",
    "                if labels[i]==1:\n",
    "                    print(\"-positive\")\n",
    "                if labels[i]==0:\n",
    "                    print(\"-negative\")\n",
    "    #return (100 * correct / total)"
   ]
  },
  {
   "cell_type": "code",
   "execution_count": 23,
   "metadata": {},
   "outputs": [
    {
     "name": "stdout",
     "output_type": "stream",
     "text": [
      "Correct\n",
      "vincent <unk> plays the part of paul an ex con <unk> to an office job where he meets <unk> a secretary who is <unk> <unk> when she has her hearing <unk> in <unk> <unk> when not played by <unk> <unk> together they help each other to develop as <unk> /><br />what was particularly interesting about this film was the <unk> of the characters  not fitting into obvious stereotypes paul appears <unk> in the office environment is it that he 's just not cut out for work this belief is <unk> when he gets a job in a bar and <unk> /><br />the film has a certain <unk> which i find refreshing and showed how easy is to act <unk> even if we think it is <unk> or <unk> /><br />finally it is a film full of great <unk> both touching and humorous one is when <unk> is <unk> and is trying to <unk> a screaming baby she continues to <unk> it  but takes her hearing <unk> out for her own <unk> <unk> <unk> plays the the part part of <unk> <unk> <unk> <unk> <unk> <unk> to an <unk> <unk> <unk> where he he meets <unk> <unk> <unk> <unk> who is <unk> <unk> <unk> when she she has \n",
      "-positive\n",
      "Correct\n",
      "i can agree with other comments that there was n't an enormous amount of history <unk> in the movie but it was n't a documentary it was meant to entertain and i think it did a very good job at it.<br /><br />i agree with the black family the scenes with them seemed out of place like all of a sudden it would be thrown in but i did catch on to the story and the connection between the families later on and found it pretty good.<br /><br />despite it was n't a re <unk> of the 60s it did bring into the light very big and important <unk> <unk> of the decade i found it very entertaining and worth my while to watch i can <unk> agree with <unk> <unk> <unk> that there there was was n't <unk> <unk> <unk> amount of <unk> <unk> <unk> in the the movie movie but but it it was was n't n't a a documentary <unk> it was was meant meant to <unk> <unk> and i i think think it it did did a a very very good good job <unk> <unk> it.<br /><br /><br />i <unk> agree with with the the black <unk> <unk> the scenes scenes with with them <unk> <unk> out of of place <unk> like all all of of a <unk> <unk> it would would be <unk> thrown in <unk> but i i did <unk> <unk> on to to the the story story and and the <unk> \n",
      "-positive\n",
      "Correct\n",
      "for those of you that do n't that reference <unk> was 4 <unk> hitting one body ... <br /><br <unk> onto the <unk> /><br />i miss <unk> saturday night some of my favorite wrestling moments took place on this stage i remember watching stunning steve <unk> rick <unk> brian <unk> <unk> jack <unk> <unk> johnny b. <unk> <unk> in his <unk> days lord steven <unk> <unk> heat <unk> <unk> <unk> ... <unk> be here a while <unk> everyone point is <unk> had an awesome <unk> in the pre <unk> days and they were producing entertaining television <unk> <unk> on commentary in it 's later years gave me a whole new reason to watch when i started smoking <unk> as a teenager ... i really wish <unk> would put him on the <unk> for a show or two maybe at the next great american <unk> they <unk> here comes <unk> <unk> he was <unk> /><br <unk> for those those of of you you that that do do n't n't that <unk> <unk> <unk> <unk> <unk> <unk> <unk> <unk> <unk> ... <br <br /><br <unk> <unk> onto the <unk> <unk> /><br />i <unk> <unk> <unk> saturday night <unk> some of of my my favorite <unk> <unk> <unk> <unk> <unk> on this <unk> <unk> i remember <unk> <unk> <unk> <unk> \n",
      "-positive\n",
      "InCorrect\n",
      "sitting down to watch the <unk> season of the <unk> on the <unk> of love i knew i would be in for an interesting time i had watched some of the previous seasons of the <unk> in passing watching an episode or two and missing the next three or so i find that the <unk> is often appealing and intriguing though its quality and morality are often <unk> /><br <unk> the <unk> of love details the journey taken by jake a <unk> year old commercial pilot from <unk> texas to find true love as true a love as one can find in a season long reality drama <unk> show jake meets 25 beautiful girls from all over the country he begins to get to know them a bit but it is mostly superficial how well can you get to know someone in a few 5 minute conversations jake tries to make his true intentions known from the very beginning at least to the audience he noted that he does n't just want love or a good time but he wants a <unk> or wife we can only assume that he has made this clear to the women in the competition \n",
      "-negative\n",
      "InCorrect\n",
      "anyone who has a remote interest in science fiction should start at the <unk> everyone says star wars and star trek are the best science fiction films to begin at which is fine but the truth is the <unk> and this movie <unk> green are far better choices than those series <unk> is probably science fiction 's best kept secret it remains one of the biggest yet most forgotten films but the impact of its setting is becoming more a reality with each passing day <unk> heston <unk> his role yet it works edward <unk> <unk> in his final role makes the most out of it in <unk> green more than anyone else and his final scenes are <unk> /><br />it is manhattan in <unk> the world is <unk> and food is an unbelievable fortune a small <unk> of <unk> <unk> costs <unk> a big executive for the <unk> company is murdered and police detective <unk> is on the <unk> /><br />the secret of <unk> green is not a mystery if you do research on the movie <unk> is enjoyable to watch but the whole screenplay is a joke it is just as cheap as the entire production the screenplay \n",
      "-negative\n",
      "InCorrect\n",
      "an <unk> although repetitive and rather <unk> <unk> of exploitation and <unk> in a situation where there is no way forward or up where the attempts to make yourself feel better by <unk> and putting down whoever is below you seems to be the only <unk> but even here in this <unk> <unk> of lost dreams and no future that does not work and <unk> out to something or someone to <unk> and share with a simple act of <unk> gives some <unk> even if it just makes the present <unk> by <unk> memories of the <unk> /><br />although there is little actual on screen violence this is a harsh and brutal film about the small <unk> of <unk> <unk> and personally that does not make for easy entertainment clearly based on a play with a small cast a <unk> more <unk> <unk> to the general social and political environment would possibly have helped the film to reach a <unk> audience <unk> <unk> <unk> <unk> <unk> <unk> <unk> <unk> <unk> <unk> <unk> <unk> in a <unk> <unk> <unk> there is is no no way <unk> <unk> <unk> <unk> where the <unk> attempts to to make <unk> <unk> <unk> <unk> <unk> <unk> <unk> <unk> <unk> <unk> <unk> <unk> \n",
      "-positive\n"
     ]
    }
   ],
   "source": [
    "correct_incorrect(val_loader, model)"
   ]
  },
  {
   "cell_type": "code",
   "execution_count": null,
   "metadata": {
    "collapsed": true
   },
   "outputs": [],
   "source": []
  }
 ],
 "metadata": {
  "kernelspec": {
   "display_name": "Python 3",
   "language": "python",
   "name": "python3"
  },
  "language_info": {
   "codemirror_mode": {
    "name": "ipython",
    "version": 3
   },
   "file_extension": ".py",
   "mimetype": "text/x-python",
   "name": "python",
   "nbconvert_exporter": "python",
   "pygments_lexer": "ipython3",
   "version": "3.6.3"
  }
 },
 "nbformat": 4,
 "nbformat_minor": 2
}
